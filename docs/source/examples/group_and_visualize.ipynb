{
 "cells": [
  {
   "cell_type": "code",
   "execution_count": 1,
   "id": "initial_id",
   "metadata": {
    "collapsed": true,
    "ExecuteTime": {
     "end_time": "2024-04-16T12:45:24.976407564Z",
     "start_time": "2024-04-16T12:45:24.691555279Z"
    }
   },
   "outputs": [],
   "source": [
    "from __future__ import annotations\n",
    "\n",
    "import tempfile\n",
    "\n",
    "from pydiverse.pipedag import Flow, Stage, materialize, GroupNode, VisualizationStyle\n",
    "from pydiverse.pipedag.core.config import create_basic_pipedag_config\n",
    "from pydiverse.pipedag.util.structlog import setup_logging\n",
    "\n",
    "\n",
    "@materialize\n",
    "def any_task():\n",
    "    return 1\n",
    "\n",
    "@materialize\n",
    "def task_within_group():\n",
    "    return 2\n",
    "\n",
    "@materialize\n",
    "def task_within_group2(input1: int):\n",
    "    return input1 + 1\n"
   ]
  },
  {
   "cell_type": "code",
   "execution_count": 2,
   "outputs": [],
   "source": [
    "setup_logging()\n",
    "temp_dir = tempfile.TemporaryDirectory()\n",
    "temp_dir_str = temp_dir.__enter__()"
   ],
   "metadata": {
    "collapsed": false,
    "ExecuteTime": {
     "end_time": "2024-04-16T12:45:24.985802330Z",
     "start_time": "2024-04-16T12:45:24.978808825Z"
    }
   },
   "id": "572f895558150f46"
  },
  {
   "cell_type": "code",
   "execution_count": 3,
   "outputs": [
    {
     "name": "stderr",
     "output_type": "stream",
     "text": [
      "\u001B[2m2024-04-16 12:45:25.664422\u001B[0m [\u001B[32m\u001B[1minfo     \u001B[0m] \u001B[1mInitialized SQL Table Store   \u001B[0m [\u001B[0m\u001B[1m\u001B[34mDuckDBTableStore\u001B[0m]\u001B[0m \u001B[36mengine_url\u001B[0m=\u001B[35mduckdb:////tmp/tmp96kguquv/db.duckdb\u001B[0m \u001B[36mschema_prefix\u001B[0m=\u001B[35m\u001B[0m \u001B[36mschema_suffix\u001B[0m=\u001B[35m\u001B[0m\n"
     ]
    }
   ],
   "source": [
    "cfg = create_basic_pipedag_config(\n",
    "    f\"duckdb:///{temp_dir_str}/db.duckdb\",\n",
    "    disable_stage_locking=True,  # This is special for duckdb\n",
    "    # Attention: stage and task names might be sent to the\n",
    "    #   following URL. You can self-host kroki if you like:\n",
    "    #   https://docs.kroki.io/kroki/setup/install/\n",
    "    kroki_url=\"https://kroki.io\",\n",
    ").get(\"default\")"
   ],
   "metadata": {
    "collapsed": false,
    "ExecuteTime": {
     "end_time": "2024-04-16T12:45:25.670489496Z",
     "start_time": "2024-04-16T12:45:24.987588391Z"
    }
   },
   "id": "24a53d8109598091"
  },
  {
   "cell_type": "code",
   "execution_count": 4,
   "outputs": [],
   "source": [
    "with Flow() as flow:\n",
    "    with Stage(\"stage1\"):\n",
    "        _ = any_task()\n",
    "        with GroupNode(\n",
    "                \"group1\", ordering_barrier=True, \n",
    "                style=VisualizationStyle(hide_content=True, box_color_always=\"#ccccff\")\n",
    "        ):\n",
    "            task1 = task_within_group()\n",
    "            _ = task_within_group2(task1)\n",
    "        _ = any_task()"
   ],
   "metadata": {
    "collapsed": false,
    "ExecuteTime": {
     "end_time": "2024-04-16T12:45:25.678611704Z",
     "start_time": "2024-04-16T12:45:25.674037347Z"
    }
   },
   "id": "9dfe6dd6cd619c25"
  },
  {
   "cell_type": "code",
   "execution_count": 5,
   "outputs": [
    {
     "name": "stderr",
     "output_type": "stream",
     "text": [
      "\u001B[2m2024-04-16 12:45:25.710323\u001B[0m [\u001B[32m\u001B[1minfo     \u001B[0m] \u001B[1mInitialized SQL Table Store   \u001B[0m [\u001B[0m\u001B[1m\u001B[34mDuckDBTableStore\u001B[0m]\u001B[0m \u001B[36mengine_url\u001B[0m=\u001B[35mduckdb:////tmp/tmp96kguquv/db.duckdb\u001B[0m \u001B[36mschema_prefix\u001B[0m=\u001B[35m\u001B[0m \u001B[36mschema_suffix\u001B[0m=\u001B[35m\u001B[0m\n",
      "\u001B[2m2024-04-16 12:45:25.711479\u001B[0m [\u001B[32m\u001B[1minfo     \u001B[0m] \u001B[1mStarting IPCServer            \u001B[0m [\u001B[0m\u001B[1m\u001B[34mRunContextServer\u001B[0m]\u001B[0m \u001B[36maddress\u001B[0m=\u001B[35mtcp://127.0.0.1:37675\u001B[0m\n",
      "\u001B[2m2024-04-16 12:45:25.733683\u001B[0m [\u001B[32m\u001B[1minfo     \u001B[0m] \u001B[1mExecuting sql                 \u001B[0m [\u001B[0m\u001B[1m\u001B[34mDuckDBTableStore\u001B[0m]\u001B[0m\n",
      "    [\u001B[36mquery\u001B[0m]\n",
      "    \u001B[35mCREATE SCHEMA IF NOT EXISTS pipedag_metadata\u001B[0m\n",
      "\u001B[2m2024-04-16 12:45:25.844742\u001B[0m [\u001B[32m\u001B[1minfo     \u001B[0m] \u001B[1mExecuting sql                 \u001B[0m [\u001B[0m\u001B[1m\u001B[34mDuckDBTableStore\u001B[0m]\u001B[0m\n",
      "    [\u001B[36mquery\u001B[0m]\n",
      "    \u001B[35mCREATE SCHEMA IF NOT EXISTS stage1\u001B[0m\n",
      "\u001B[2m2024-04-16 12:45:25.846739\u001B[0m [\u001B[32m\u001B[1minfo     \u001B[0m] \u001B[1mExecuting sql                 \u001B[0m [\u001B[0m\u001B[1m\u001B[34mDuckDBTableStore\u001B[0m]\u001B[0m\n",
      "    [\u001B[36mquery\u001B[0m]\n",
      "    \u001B[35mDROP SCHEMA IF EXISTS stage1__odd CASCADE\u001B[0m\n",
      "\u001B[2m2024-04-16 12:45:25.847577\u001B[0m [\u001B[32m\u001B[1minfo     \u001B[0m] \u001B[1mExecuting sql                 \u001B[0m [\u001B[0m\u001B[1m\u001B[34mDuckDBTableStore\u001B[0m]\u001B[0m\n",
      "    [\u001B[36mquery\u001B[0m]\n",
      "    \u001B[35mCREATE SCHEMA stage1__odd\u001B[0m\n",
      "\u001B[2m2024-04-16 12:45:25.862978\u001B[0m [\u001B[32m\u001B[1minfo     \u001B[0m] \u001B[1mTask finished successfully    \u001B[0m [\u001B[0m\u001B[1m\u001B[34mTask 'any_task'\u001B[0m]\u001B[0m \u001B[36mstate\u001B[0m=\u001B[35m<FinalTaskState.COMPLETED: 1>\u001B[0m \u001B[36mtask\u001B[0m=\u001B[35m<Task 'any_task' 0x7f8ee5fd2a90 (id: 0)>\u001B[0m\n",
      "\u001B[2m2024-04-16 12:45:25.864468\u001B[0m [\u001B[32m\u001B[1minfo     \u001B[0m] \u001B[1mEntry Ordering barrier passed \u001B[0m [\u001B[0m\u001B[1m\u001B[34mBarrier\u001B[0m]\u001B[0m \u001B[36mgroup_node\u001B[0m=\u001B[35m<GroupNode: group1>\u001B[0m \u001B[36mstage\u001B[0m=\u001B[35m<Stage: stage1>\u001B[0m\n",
      "\u001B[2m2024-04-16 12:45:25.865066\u001B[0m [\u001B[32m\u001B[1minfo     \u001B[0m] \u001B[1mTask finished successfully    \u001B[0m [\u001B[0m\u001B[1m\u001B[34mBarrier\u001B[0m]\u001B[0m \u001B[36mgroup_node\u001B[0m=\u001B[35m<GroupNode: group1>\u001B[0m \u001B[36mstage\u001B[0m=\u001B[35m<Stage: stage1>\u001B[0m \u001B[36mstate\u001B[0m=\u001B[35m<FinalTaskState.COMPLETED: 1>\u001B[0m\n",
      "\u001B[2m2024-04-16 12:45:25.875599\u001B[0m [\u001B[32m\u001B[1minfo     \u001B[0m] \u001B[1mTask finished successfully    \u001B[0m [\u001B[0m\u001B[1m\u001B[34mTask 'task_within_group'\u001B[0m]\u001B[0m \u001B[36mstate\u001B[0m=\u001B[35m<FinalTaskState.COMPLETED: 1>\u001B[0m \u001B[36mtask\u001B[0m=\u001B[35m<Task 'task_within_group' 0x7f8f04cdf310 (id: 2)>\u001B[0m\n",
      "\u001B[2m2024-04-16 12:45:25.885415\u001B[0m [\u001B[32m\u001B[1minfo     \u001B[0m] \u001B[1mTask finished successfully    \u001B[0m [\u001B[0m\u001B[1m\u001B[34mTask 'task_within_group2'\u001B[0m]\u001B[0m \u001B[36mstate\u001B[0m=\u001B[35m<FinalTaskState.COMPLETED: 1>\u001B[0m \u001B[36mtask\u001B[0m=\u001B[35m<Task 'task_within_group2' 0x7f8ee5fd2b90 (id: 3)>\u001B[0m\n",
      "\u001B[2m2024-04-16 12:45:25.886950\u001B[0m [\u001B[32m\u001B[1minfo     \u001B[0m] \u001B[1mExit Ordering barrier passed  \u001B[0m [\u001B[0m\u001B[1m\u001B[34mBarrier\u001B[0m]\u001B[0m \u001B[36mgroup_node\u001B[0m=\u001B[35m<GroupNode: group1>\u001B[0m \u001B[36mstage\u001B[0m=\u001B[35m<Stage: stage1>\u001B[0m\n",
      "\u001B[2m2024-04-16 12:45:25.887408\u001B[0m [\u001B[32m\u001B[1minfo     \u001B[0m] \u001B[1mTask finished successfully    \u001B[0m [\u001B[0m\u001B[1m\u001B[34mBarrier\u001B[0m]\u001B[0m \u001B[36mgroup_node\u001B[0m=\u001B[35m<GroupNode: group1>\u001B[0m \u001B[36mstage\u001B[0m=\u001B[35m<Stage: stage1>\u001B[0m \u001B[36mstate\u001B[0m=\u001B[35m<FinalTaskState.COMPLETED: 1>\u001B[0m\n",
      "\u001B[2m2024-04-16 12:45:25.890399\u001B[0m [\u001B[32m\u001B[1minfo     \u001B[0m] \u001B[1mTask has already been run with the same inputs. Using memoized results.\u001B[0m [\u001B[0m\u001B[1m\u001B[34mTask 'any_task'\u001B[0m]\u001B[0m \u001B[36mtask\u001B[0m=\u001B[35m<Task 'any_task' 0x7f8ee7b80f10 (id: 5)>\u001B[0m\n",
      "\u001B[2m2024-04-16 12:45:25.891703\u001B[0m [\u001B[32m\u001B[1minfo     \u001B[0m] \u001B[1mTask finished successfully    \u001B[0m [\u001B[0m\u001B[1m\u001B[34mTask 'any_task'\u001B[0m]\u001B[0m \u001B[36mstate\u001B[0m=\u001B[35m<FinalTaskState.COMPLETED: 1>\u001B[0m \u001B[36mtask\u001B[0m=\u001B[35m<Task 'any_task' 0x7f8ee7b80f10 (id: 5)>\u001B[0m\n",
      "\u001B[2m2024-04-16 12:45:25.893187\u001B[0m [\u001B[32m\u001B[1minfo     \u001B[0m] \u001B[1mCommitting stage              \u001B[0m [\u001B[0m\u001B[1m\u001B[34mCommit Stage\u001B[0m]\u001B[0m \u001B[36mstage\u001B[0m=\u001B[35m<Stage: stage1>\u001B[0m\n",
      "\u001B[2m2024-04-16 12:45:25.895950\u001B[0m [\u001B[32m\u001B[1minfo     \u001B[0m] \u001B[1mStage is cache valid          \u001B[0m [\u001B[0m\u001B[1m\u001B[34mDuckDBTableStore\u001B[0m]\u001B[0m \u001B[36mstage\u001B[0m=\u001B[35m<Stage: stage1>\u001B[0m\n",
      "\u001B[2m2024-04-16 12:45:25.906144\u001B[0m [\u001B[32m\u001B[1minfo     \u001B[0m] \u001B[1mTask finished successfully    \u001B[0m [\u001B[0m\u001B[1m\u001B[34mCommit Stage\u001B[0m]\u001B[0m \u001B[36mstage\u001B[0m=\u001B[35m<Stage: stage1>\u001B[0m \u001B[36mstate\u001B[0m=\u001B[35m<FinalTaskState.COMPLETED: 1>\u001B[0m\n",
      "\u001B[2m2024-04-16 12:45:25.909041\u001B[0m [\u001B[32m\u001B[1minfo     \u001B[0m] \u001B[1mNo visualization customization found in config.\u001B[0m [\u001B[0m\u001B[1m\u001B[34mFlow\u001B[0m]\u001B[0m\n",
      "\u001B[2m2024-04-16 12:45:25.913131\u001B[0m [\u001B[32m\u001B[1minfo     \u001B[0m] \u001B[1mFlow visualization            \u001B[0m [\u001B[0m\u001B[1m\u001B[34mFlow\u001B[0m]\u001B[0m \u001B[36murl\u001B[0m=\u001B[35mhttps://kroki.io/graphviz/svg/eNqdjs1qwzAQhO96CqFeU3BKfChCPaUkPfUBQjEraeWYbC2jH6gpffeqEQ64vXWPszPfjB36ANOZH_gnM_598nm0KoWMksWs689QjglDF7uYoMdtsereePJBibvmeg-NkKxKmsBcJHN-TCuBQCOpSijwNBOq6GmwkjX85AaiBQkW3aMWG14jMM5dgnjZ8BoSP1604k0y8bLf0W5-xY_jsxJriinn3I3SB5-n7cKoiEJo_1v9xcrs-yf-awI_0RnBqrVceAkGUs3fzQXR3lLtYlybrnXf2WaKLA==\u001B[0m\n",
      "\u001B[2m2024-04-16 12:45:26.109452\u001B[0m [\u001B[32m\u001B[1minfo     \u001B[0m] \u001B[1mStopped IPCServer             \u001B[0m [\u001B[0m\u001B[1m\u001B[34mRunContextServer\u001B[0m]\u001B[0m \u001B[36maddress\u001B[0m=\u001B[35mtcp://127.0.0.1:37675\u001B[0m\n"
     ]
    }
   ],
   "source": [
    "# Run flow\n",
    "result = flow.run(config=cfg)\n",
    "assert result.successful"
   ],
   "metadata": {
    "collapsed": false,
    "ExecuteTime": {
     "end_time": "2024-04-16T12:45:26.147208992Z",
     "start_time": "2024-04-16T12:45:25.678115621Z"
    }
   },
   "id": "292652cd392bd33f"
  },
  {
   "cell_type": "code",
   "execution_count": 6,
   "outputs": [
    {
     "name": "stderr",
     "output_type": "stream",
     "text": [
      "\u001B[2m2024-04-16 12:45:26.139611\u001B[0m [\u001B[32m\u001B[1minfo     \u001B[0m] \u001B[1mNo visualization customization found in config.\u001B[0m [\u001B[0m\u001B[1m\u001B[34mFlow\u001B[0m]\u001B[0m\n"
     ]
    },
    {
     "data": {
      "text/plain": "<IPython.core.display.SVG object>",
      "image/svg+xml": "<svg xmlns=\"http://www.w3.org/2000/svg\" xmlns:xlink=\"http://www.w3.org/1999/xlink\" width=\"130pt\" height=\"248pt\" viewBox=\"0.00 0.00 130.00 248.31\">\n<g id=\"graph0\" class=\"graph\" transform=\"scale(1 1) rotate(0) translate(4 244.31)\">\n<title>G</title>\n<polygon fill=\"white\" stroke=\"none\" points=\"-4,4 -4,-244.31 126,-244.31 126,4 -4,4\"/>\n<g id=\"clust1\" class=\"cluster\">\n<title>cluster_s_stage1</title>\n<polygon fill=\"#000000\" fill-opacity=\"0.125490\" stroke=\"black\" points=\"8,-8 8,-232.31 114,-232.31 114,-8 8,-8\"/>\n<text text-anchor=\"middle\" x=\"61\" y=\"-215.01\" font-family=\"Times,serif\" font-size=\"14.00\">stage1</text>\n</g>\n<!-- 0 -->\n<g id=\"node1\" class=\"node\">\n<title>0</title>\n<ellipse fill=\"#adef9b\" stroke=\"black\" cx=\"61\" cy=\"-179.92\" rx=\"45.25\" ry=\"18.38\"/>\n<text text-anchor=\"middle\" x=\"61\" y=\"-175.62\" font-family=\"Times,serif\" font-size=\"14.00\">any_task</text>\n</g>\n<!-- 7dYU0bzGirw= -->\n<g id=\"node2\" class=\"node\">\n<title>7dYU0bzGirw=</title>\n<ellipse fill=\"#ccccff\" stroke=\"black\" cx=\"61\" cy=\"-107.15\" rx=\"38.89\" ry=\"18.38\"/>\n<text text-anchor=\"middle\" x=\"61\" y=\"-102.85\" font-family=\"Times,serif\" font-size=\"14.00\">group1</text>\n</g>\n<!-- 0&#45;&gt;7dYU0bzGirw= -->\n<g id=\"edge1\" class=\"edge\">\n<title>0-&gt;7dYU0bzGirw=</title>\n<path fill=\"none\" stroke=\"black\" d=\"M61,-161.07C61,-153.8 61,-145.22 61,-137.11\"/>\n<polygon fill=\"black\" stroke=\"black\" points=\"64.5,-137.28 61,-127.28 57.5,-137.28 64.5,-137.28\"/>\n</g>\n<!-- 5 -->\n<g id=\"node3\" class=\"node\">\n<title>5</title>\n<ellipse fill=\"#adef9b\" stroke=\"black\" cx=\"61\" cy=\"-34.38\" rx=\"45.25\" ry=\"18.38\"/>\n<text text-anchor=\"middle\" x=\"61\" y=\"-30.08\" font-family=\"Times,serif\" font-size=\"14.00\">any_task</text>\n</g>\n<!-- 7dYU0bzGirw=&#45;&gt;5 -->\n<g id=\"edge2\" class=\"edge\">\n<title>7dYU0bzGirw=-&gt;5</title>\n<path fill=\"none\" stroke=\"black\" d=\"M61,-88.3C61,-81.03 61,-72.45 61,-64.34\"/>\n<polygon fill=\"black\" stroke=\"black\" points=\"64.5,-64.51 61,-54.51 57.5,-64.51 64.5,-64.51\"/>\n</g>\n</g>\n</svg>"
     },
     "metadata": {},
     "output_type": "display_data"
    },
    {
     "data": {
      "text/plain": "<pydot.core.Dot at 0x7f8e94eab050>"
     },
     "execution_count": 6,
     "metadata": {},
     "output_type": "execute_result"
    }
   ],
   "source": [
    "result.visualize()"
   ],
   "metadata": {
    "collapsed": false,
    "ExecuteTime": {
     "end_time": "2024-04-16T12:45:26.203051294Z",
     "start_time": "2024-04-16T12:45:26.141393342Z"
    }
   },
   "id": "fc2e4ce5b3317622"
  },
  {
   "cell_type": "code",
   "execution_count": 7,
   "outputs": [
    {
     "name": "stderr",
     "output_type": "stream",
     "text": [
      "\u001B[2m2024-04-16 12:45:26.178033\u001B[0m [\u001B[32m\u001B[1minfo     \u001B[0m] \u001B[1mInitialized SQL Table Store   \u001B[0m [\u001B[0m\u001B[1m\u001B[34mDuckDBTableStore\u001B[0m]\u001B[0m \u001B[36mengine_url\u001B[0m=\u001B[35mduckdb:////tmp/tmp96kguquv/db.duckdb\u001B[0m \u001B[36mschema_prefix\u001B[0m=\u001B[35m\u001B[0m \u001B[36mschema_suffix\u001B[0m=\u001B[35m\u001B[0m\n"
     ]
    }
   ],
   "source": [
    "from pydiverse.pipedag.core.config import PipedagConfig\n",
    "base_cfg = create_basic_pipedag_config(\n",
    "    f\"duckdb:///{temp_dir_str}/db.duckdb\",\n",
    "    disable_stage_locking=True,  # This is special for duckdb\n",
    "    # Attention: If uncommented, stage and task names might be sent to the\n",
    "    #   following URL. You can self-host kroki if you like:\n",
    "    #   https://docs.kroki.io/kroki/setup/install/\n",
    "    kroki_url=\"https://kroki.io\",\n",
    ")\n",
    "group_nodes = dict(\n",
    "    my_group1=dict(tasks=[\"task_within_group\", \"task_within_group2\"], label=\"Group 1\", style_tag=\"my_group_style\"),\n",
    ")\n",
    "styles = dict(\n",
    "    my_group_style=dict(hide_content=True, box_color_always=\"#ccccff\"),\n",
    ")\n",
    "visualization = dict(default=dict(group_nodes=group_nodes, styles=styles), alternative={})\n",
    "raw_cfg = base_cfg.raw_config.copy()\n",
    "raw_cfg[\"instances\"][\"__any__\"][\"visualization\"] = visualization\n",
    "cfg = PipedagConfig(raw_cfg).get()"
   ],
   "metadata": {
    "collapsed": false,
    "ExecuteTime": {
     "end_time": "2024-04-16T12:45:26.203839111Z",
     "start_time": "2024-04-16T12:45:26.179870872Z"
    }
   },
   "id": "4139a2f89494322c"
  },
  {
   "cell_type": "code",
   "execution_count": 8,
   "outputs": [],
   "source": [
    "with Flow() as flow:\n",
    "    with Stage(\"stage1\"):\n",
    "        task1 = task_within_group()\n",
    "        _ = task_within_group2(task1)\n",
    "        _ = any_task()"
   ],
   "metadata": {
    "collapsed": false,
    "ExecuteTime": {
     "end_time": "2024-04-16T12:45:26.256335571Z",
     "start_time": "2024-04-16T12:45:26.187244492Z"
    }
   },
   "id": "45c00cf7bb1e61cd"
  },
  {
   "cell_type": "code",
   "execution_count": 9,
   "outputs": [
    {
     "name": "stderr",
     "output_type": "stream",
     "text": [
      "\u001B[2m2024-04-16 12:45:26.193385\u001B[0m [\u001B[32m\u001B[1minfo     \u001B[0m] \u001B[1mInitialized SQL Table Store   \u001B[0m [\u001B[0m\u001B[1m\u001B[34mDuckDBTableStore\u001B[0m]\u001B[0m \u001B[36mengine_url\u001B[0m=\u001B[35mduckdb:////tmp/tmp96kguquv/db.duckdb\u001B[0m \u001B[36mschema_prefix\u001B[0m=\u001B[35m\u001B[0m \u001B[36mschema_suffix\u001B[0m=\u001B[35m\u001B[0m\n",
      "\u001B[2m2024-04-16 12:45:26.194232\u001B[0m [\u001B[32m\u001B[1minfo     \u001B[0m] \u001B[1mStarting IPCServer            \u001B[0m [\u001B[0m\u001B[1m\u001B[34mRunContextServer\u001B[0m]\u001B[0m \u001B[36maddress\u001B[0m=\u001B[35mtcp://127.0.0.1:43623\u001B[0m\n",
      "\u001B[2m2024-04-16 12:45:26.202765\u001B[0m [\u001B[32m\u001B[1minfo     \u001B[0m] \u001B[1mExecuting sql                 \u001B[0m [\u001B[0m\u001B[1m\u001B[34mDuckDBTableStore\u001B[0m]\u001B[0m\n",
      "    [\u001B[36mquery\u001B[0m]\n",
      "    \u001B[35mCREATE SCHEMA IF NOT EXISTS pipedag_metadata\u001B[0m\n",
      "\u001B[2m2024-04-16 12:45:26.211927\u001B[0m [\u001B[32m\u001B[1minfo     \u001B[0m] \u001B[1mExecuting sql                 \u001B[0m [\u001B[0m\u001B[1m\u001B[34mDuckDBTableStore\u001B[0m]\u001B[0m\n",
      "    [\u001B[36mquery\u001B[0m]\n",
      "    \u001B[35mCREATE SCHEMA IF NOT EXISTS stage1\u001B[0m\n",
      "\u001B[2m2024-04-16 12:45:26.213131\u001B[0m [\u001B[32m\u001B[1minfo     \u001B[0m] \u001B[1mExecuting sql                 \u001B[0m [\u001B[0m\u001B[1m\u001B[34mDuckDBTableStore\u001B[0m]\u001B[0m\n",
      "    [\u001B[36mquery\u001B[0m]\n",
      "    \u001B[35mDROP SCHEMA IF EXISTS stage1__odd CASCADE\u001B[0m\n",
      "\u001B[2m2024-04-16 12:45:26.215403\u001B[0m [\u001B[32m\u001B[1minfo     \u001B[0m] \u001B[1mExecuting sql                 \u001B[0m [\u001B[0m\u001B[1m\u001B[34mDuckDBTableStore\u001B[0m]\u001B[0m\n",
      "    [\u001B[36mquery\u001B[0m]\n",
      "    \u001B[35mCREATE SCHEMA stage1__odd\u001B[0m\n",
      "\u001B[2m2024-04-16 12:45:26.234152\u001B[0m [\u001B[32m\u001B[1minfo     \u001B[0m] \u001B[1mTask finished successfully    \u001B[0m [\u001B[0m\u001B[1m\u001B[34mTask 'task_within_group'\u001B[0m]\u001B[0m \u001B[36mstate\u001B[0m=\u001B[35m<FinalTaskState.COMPLETED: 1>\u001B[0m \u001B[36mtask\u001B[0m=\u001B[35m<Task 'task_within_group' 0x7f8ee6e7a5d0 (id: 0)>\u001B[0m\n",
      "\u001B[2m2024-04-16 12:45:26.244899\u001B[0m [\u001B[32m\u001B[1minfo     \u001B[0m] \u001B[1mTask finished successfully    \u001B[0m [\u001B[0m\u001B[1m\u001B[34mTask 'task_within_group2'\u001B[0m]\u001B[0m \u001B[36mstate\u001B[0m=\u001B[35m<FinalTaskState.COMPLETED: 1>\u001B[0m \u001B[36mtask\u001B[0m=\u001B[35m<Task 'task_within_group2' 0x7f8e95006b90 (id: 1)>\u001B[0m\n",
      "\u001B[2m2024-04-16 12:45:26.254412\u001B[0m [\u001B[32m\u001B[1minfo     \u001B[0m] \u001B[1mTask finished successfully    \u001B[0m [\u001B[0m\u001B[1m\u001B[34mTask 'any_task'\u001B[0m]\u001B[0m \u001B[36mstate\u001B[0m=\u001B[35m<FinalTaskState.COMPLETED: 1>\u001B[0m \u001B[36mtask\u001B[0m=\u001B[35m<Task 'any_task' 0x7f8ee5f6b690 (id: 2)>\u001B[0m\n",
      "\u001B[2m2024-04-16 12:45:26.255675\u001B[0m [\u001B[32m\u001B[1minfo     \u001B[0m] \u001B[1mCommitting stage              \u001B[0m [\u001B[0m\u001B[1m\u001B[34mCommit Stage\u001B[0m]\u001B[0m \u001B[36mstage\u001B[0m=\u001B[35m<Stage: stage1>\u001B[0m\n",
      "\u001B[2m2024-04-16 12:45:26.258759\u001B[0m [\u001B[32m\u001B[1minfo     \u001B[0m] \u001B[1mStage is cache valid          \u001B[0m [\u001B[0m\u001B[1m\u001B[34mDuckDBTableStore\u001B[0m]\u001B[0m \u001B[36mstage\u001B[0m=\u001B[35m<Stage: stage1>\u001B[0m\n",
      "\u001B[2m2024-04-16 12:45:26.269040\u001B[0m [\u001B[32m\u001B[1minfo     \u001B[0m] \u001B[1mTask finished successfully    \u001B[0m [\u001B[0m\u001B[1m\u001B[34mCommit Stage\u001B[0m]\u001B[0m \u001B[36mstage\u001B[0m=\u001B[35m<Stage: stage1>\u001B[0m \u001B[36mstate\u001B[0m=\u001B[35m<FinalTaskState.COMPLETED: 1>\u001B[0m\n",
      "\u001B[2m2024-04-16 12:45:26.273579\u001B[0m [\u001B[32m\u001B[1minfo     \u001B[0m] \u001B[1mFlow visualization            \u001B[0m [\u001B[0m\u001B[1m\u001B[34mFlow\u001B[0m]\u001B[0m \u001B[36murl\u001B[0m=\u001B[35mhttps://kroki.io/graphviz/svg/eNpVjMsKwjAQRff5ijBuXWgRVEI2IvQXKiIlz1o6NiWPRRH_3Wio4GVWd-45uu-8mO60pk-i3GNyadQ8-mQYCUmWn8IUovFtaEMUndnmqeyUQ-c5rDbfVBtgpFQShRoYsW6MfwUKaZAXQ5bHGQ0PDnvNCDTnU70_NGHYXTjQq-0RF7_KsRbWtPBQe5cmus1FUXy2Rt8Yqf45oY09yh8nxrmNIgwLBoWDDL5IvjelnFhg\u001B[0m\n",
      "\u001B[2m2024-04-16 12:45:26.472576\u001B[0m [\u001B[32m\u001B[1minfo     \u001B[0m] \u001B[1mStopped IPCServer             \u001B[0m [\u001B[0m\u001B[1m\u001B[34mRunContextServer\u001B[0m]\u001B[0m \u001B[36maddress\u001B[0m=\u001B[35mtcp://127.0.0.1:43623\u001B[0m\n"
     ]
    },
    {
     "data": {
      "text/plain": "<IPython.core.display.SVG object>",
      "image/svg+xml": "<svg xmlns=\"http://www.w3.org/2000/svg\" xmlns:xlink=\"http://www.w3.org/1999/xlink\" width=\"234pt\" height=\"103pt\" viewBox=\"0.00 0.00 234.00 102.77\">\n<g id=\"graph0\" class=\"graph\" transform=\"scale(1 1) rotate(0) translate(4 98.77)\">\n<title>G</title>\n<polygon fill=\"white\" stroke=\"none\" points=\"-4,4 -4,-98.77 230,-98.77 230,4 -4,4\"/>\n<g id=\"clust1\" class=\"cluster\">\n<title>cluster_s_stage1</title>\n<polygon fill=\"#000000\" fill-opacity=\"0.125490\" stroke=\"black\" points=\"8,-8 8,-86.77 218,-86.77 218,-8 8,-8\"/>\n<text text-anchor=\"middle\" x=\"113\" y=\"-69.47\" font-family=\"Times,serif\" font-size=\"14.00\">stage1</text>\n</g>\n<!-- ymRx5rCIKls= -->\n<g id=\"node1\" class=\"node\">\n<title>ymRx5rCIKls=</title>\n<ellipse fill=\"#ccccff\" stroke=\"black\" cx=\"167\" cy=\"-34.38\" rx=\"43.13\" ry=\"18.38\"/>\n<text text-anchor=\"middle\" x=\"167\" y=\"-30.08\" font-family=\"Times,serif\" font-size=\"14.00\">Group 1</text>\n</g>\n<!-- 2 -->\n<g id=\"node2\" class=\"node\">\n<title>2</title>\n<ellipse fill=\"#adef9b\" stroke=\"black\" cx=\"61\" cy=\"-34.38\" rx=\"45.25\" ry=\"18.38\"/>\n<text text-anchor=\"middle\" x=\"61\" y=\"-30.08\" font-family=\"Times,serif\" font-size=\"14.00\">any_task</text>\n</g>\n</g>\n</svg>"
     },
     "metadata": {},
     "output_type": "display_data"
    },
    {
     "data": {
      "text/plain": "<pydot.core.Dot at 0x7f8e94eb1ad0>"
     },
     "execution_count": 9,
     "metadata": {},
     "output_type": "execute_result"
    }
   ],
   "source": [
    "# Run flow\n",
    "result = flow.run(config=cfg)\n",
    "assert result.successful\n",
    "result.visualize()"
   ],
   "metadata": {
    "collapsed": false,
    "ExecuteTime": {
     "end_time": "2024-04-16T12:45:26.517966454Z",
     "start_time": "2024-04-16T12:45:26.235163713Z"
    }
   },
   "id": "19144cf34d853164"
  },
  {
   "cell_type": "code",
   "execution_count": 10,
   "outputs": [],
   "source": [
    "temp_dir.__exit__(None, None, None)"
   ],
   "metadata": {
    "collapsed": false,
    "ExecuteTime": {
     "end_time": "2024-04-16T12:45:26.564262797Z",
     "start_time": "2024-04-16T12:45:26.519028092Z"
    }
   },
   "id": "311c198efc1117bb"
  }
 ],
 "metadata": {
  "kernelspec": {
   "display_name": "Python 3",
   "language": "python",
   "name": "python3"
  },
  "language_info": {
   "codemirror_mode": {
    "name": "ipython",
    "version": 2
   },
   "file_extension": ".py",
   "mimetype": "text/x-python",
   "name": "python",
   "nbconvert_exporter": "python",
   "pygments_lexer": "ipython2",
   "version": "2.7.6"
  }
 },
 "nbformat": 4,
 "nbformat_minor": 5
}
